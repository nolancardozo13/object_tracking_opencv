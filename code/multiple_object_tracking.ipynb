{
 "cells": [
  {
   "cell_type": "code",
   "execution_count": null,
   "metadata": {},
   "outputs": [],
   "source": [
    "#import opencv\n",
    "import cv2\n",
    "import pandas as pd\n",
    "print(cv2.__version__)"
   ]
  },
  {
   "cell_type": "code",
   "execution_count": 2,
   "metadata": {},
   "outputs": [],
   "source": [
    "# specify video path\n",
    "video_path = '../video/football.mp4'\n",
    "output_path = '../output/'"
   ]
  },
  {
   "cell_type": "code",
   "execution_count": 3,
   "metadata": {},
   "outputs": [],
   "source": [
    "# create a dictionary of all sinhle object trackers in opencv\n",
    "tracker_options = {'csrt': cv2.TrackerCSRT_create,\n",
    "                   'kcf': cv2.TrackerKCF_create,\n",
    "                   'mil': cv2.TrackerMIL_create,\n",
    "                   'medianflow': cv2.TrackerMedianFlow_create,\n",
    "                   'boosting': cv2.TrackerBoosting_create,\n",
    "                   'mosse': cv2.TrackerMOSSE_create,\n",
    "                   'tld': cv2.TrackerTLD_create\n",
    "           }"
   ]
  },
  {
   "cell_type": "code",
   "execution_count": 4,
   "metadata": {},
   "outputs": [],
   "source": [
    "# choose trackers\n",
    "trackers = cv2.MultiTracker_create()"
   ]
  },
  {
   "cell_type": "code",
   "execution_count": 5,
   "metadata": {},
   "outputs": [],
   "source": [
    "# input the video\n",
    "video = cv2.VideoCapture(video_path)"
   ]
  },
  {
   "cell_type": "code",
   "execution_count": 6,
   "metadata": {},
   "outputs": [],
   "source": [
    "# # For webcam\n",
    "# video = cv2.VideoCapture(0)"
   ]
  },
  {
   "cell_type": "code",
   "execution_count": 7,
   "metadata": {},
   "outputs": [],
   "source": [
    "# read first frame and draw bounding box around objects of interest\n",
    "ret, frame = video.read()"
   ]
  },
  {
   "cell_type": "code",
   "execution_count": 8,
   "metadata": {},
   "outputs": [],
   "source": [
    "frame_num = 1\n",
    "num_objects = 3\n",
    "df = pd.DataFrame()\n",
    "for i in range(num_objects):\n",
    "    cv2.imshow('Frame', frame)\n",
    "    roi = cv2.selectROI('Frame', frame)\n",
    "    tracker_i = tracker_options['csrt']()\n",
    "    trackers.add(tracker_i,frame,roi)\n",
    "    df = df.append(pd.DataFrame({'frame': frame_num,'object':i, 'x': roi[0],'y':roi[1],'w':roi[2],'h':roi[3]} ,index=[0]),ignore_index = True)\n",
    "cv2.destroyAllWindows()\n"
   ]
  },
  {
   "cell_type": "code",
   "execution_count": 9,
   "metadata": {},
   "outputs": [],
   "source": [
    "# update the tracker for all frames and draw new bounding boxes\n",
    "while True:\n",
    "    frame_num += 1\n",
    "    ret, frame = video.read()\n",
    "    if not ret:\n",
    "        break\n",
    "    (success, bboxes) = trackers.update(frame)\n",
    "    for i, bbox in enumerate(bboxes):\n",
    "        df = df.append(pd.DataFrame({'frame': frame_num,'object':i, 'x': bbox[0],'y':bbox[1],'w':bbox[2],'h':bbox[3]} ,index=[0]),ignore_index = True)\n",
    "        (x,y,w,h) = [int(a) for a in bbox]\n",
    "        cv2.rectangle(frame,(x,y),(x+w,y+h),(0,0,255),2)\n",
    "    cv2.imshow('Frame',frame)\n",
    "    key = cv2.waitKey(5) & 0xFF\n",
    "    if key == ord('q'):\n",
    "        break\n",
    "video.release()\n",
    "cv2.destroyAllWindows()"
   ]
  },
  {
   "cell_type": "code",
   "execution_count": 11,
   "metadata": {},
   "outputs": [],
   "source": [
    "df.to_csv(output_path+'MOT.csv',header=True, index = False)"
   ]
  },
  {
   "cell_type": "code",
   "execution_count": null,
   "metadata": {},
   "outputs": [],
   "source": []
  }
 ],
 "metadata": {
  "kernelspec": {
   "display_name": "Python 3",
   "language": "python",
   "name": "python3"
  },
  "language_info": {
   "codemirror_mode": {
    "name": "ipython",
    "version": 3
   },
   "file_extension": ".py",
   "mimetype": "text/x-python",
   "name": "python",
   "nbconvert_exporter": "python",
   "pygments_lexer": "ipython3",
   "version": "3.7.6"
  }
 },
 "nbformat": 4,
 "nbformat_minor": 4
}
