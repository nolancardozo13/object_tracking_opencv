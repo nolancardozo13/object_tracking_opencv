{
 "cells": [
  {
   "cell_type": "code",
   "execution_count": 99,
   "metadata": {},
   "outputs": [
    {
     "name": "stdout",
     "output_type": "stream",
     "text": [
      "4.4.0\n"
     ]
    }
   ],
   "source": [
    "#import opencv\n",
    "import cv2\n",
    "print(cv2.__version__)"
   ]
  },
  {
   "cell_type": "code",
   "execution_count": null,
   "metadata": {},
   "outputs": [],
   "source": [
    "# specify video path\n",
    "video_path = '../video/football.mp4'"
   ]
  },
  {
   "cell_type": "code",
   "execution_count": 100,
   "metadata": {},
   "outputs": [],
   "source": [
    "# create a dictionary of all sinhle object trackers in opencv\n",
    "trackers = {'csrt': cv2.TrackerCSRT_create,\n",
    "            'kcf': cv2.TrackerKCF_create,\n",
    "            'mil': cv2.TrackerMIL_create,\n",
    "            'medianflow': cv2.TrackerMedianFlow_create,\n",
    "            'boosting': cv2.TrackerBoosting_create,\n",
    "            'mosse': cv2.TrackerMOSSE_create,\n",
    "            'tld': cv2.TrackerTLD_create\n",
    "           }"
   ]
  },
  {
   "cell_type": "code",
   "execution_count": 101,
   "metadata": {},
   "outputs": [],
   "source": [
    "# choose appropriate tracker\n",
    "tracker = trackers['csrt']()"
   ]
  },
  {
   "cell_type": "code",
   "execution_count": 102,
   "metadata": {},
   "outputs": [],
   "source": [
    "# input the video\n",
    "video = cv2.VideoCapture(video_path)"
   ]
  },
  {
   "cell_type": "code",
   "execution_count": 103,
   "metadata": {},
   "outputs": [],
   "source": [
    "# read first frame and draw bounding box around object of interest\n",
    "ret, frame = video.read()\n",
    "cv2.imshow('Frame',frame)\n",
    "roi = cv2.selectROI('Frame', frame) \n",
    "cv2.destroyAllWindows()"
   ]
  },
  {
   "cell_type": "code",
   "execution_count": 105,
   "metadata": {},
   "outputs": [
    {
     "data": {
      "text/plain": [
       "True"
      ]
     },
     "execution_count": 105,
     "metadata": {},
     "output_type": "execute_result"
    }
   ],
   "source": [
    "# initalise the tracker with the first frame and bounding box\n",
    "tracker.init(frame,roi)"
   ]
  },
  {
   "cell_type": "code",
   "execution_count": 106,
   "metadata": {},
   "outputs": [],
   "source": [
    "# update the tracker for all frames and draw new bounding boxes\n",
    "while True:\n",
    "    ret, frame = video.read()\n",
    "    if not ret:\n",
    "        break\n",
    "    (success, bbox) = tracker.update(frame)\n",
    "    if success:\n",
    "        (x,y,w,h) = [int(a) for a in bbox]\n",
    "        cv2.rectangle(frame,(x,y),(x+w,y+h),(0,0,255),2)\n",
    "    cv2.imshow('Frame',frame)\n",
    "    key = cv2.waitKey(5) & 0xFF\n",
    "    if key == ord('q'):\n",
    "        break\n",
    "video.release()\n",
    "cv2.destroyAllWindows()"
   ]
  },
  {
   "cell_type": "code",
   "execution_count": null,
   "metadata": {},
   "outputs": [],
   "source": []
  }
 ],
 "metadata": {
  "kernelspec": {
   "display_name": "Python 3",
   "language": "python",
   "name": "python3"
  },
  "language_info": {
   "codemirror_mode": {
    "name": "ipython",
    "version": 3
   },
   "file_extension": ".py",
   "mimetype": "text/x-python",
   "name": "python",
   "nbconvert_exporter": "python",
   "pygments_lexer": "ipython3",
   "version": "3.7.6"
  }
 },
 "nbformat": 4,
 "nbformat_minor": 4
}
